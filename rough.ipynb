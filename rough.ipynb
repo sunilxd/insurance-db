{
 "cells": [
  {
   "cell_type": "code",
   "execution_count": 136,
   "metadata": {},
   "outputs": [],
   "source": [
    "import pymupdf\n",
    "from pathlib import Path\n",
    "import re\n",
    "import os\n",
    "from math import ceil"
   ]
  },
  {
   "cell_type": "code",
   "execution_count": 59,
   "metadata": {},
   "outputs": [],
   "source": [
    "folder = Path('sample')\n",
    "\n",
    "files = os.listdir(folder)\n",
    "\n",
    "\n",
    "def extract_text(file_dir):\n",
    "\n",
    "    doc = pymupdf.open(file_dir)\n",
    "\n",
    "    text = ''\n",
    "\n",
    "    for page in doc:\n",
    "        text += page.get_text()\n",
    "\n",
    "    return text"
   ]
  },
  {
   "cell_type": "code",
   "execution_count": 67,
   "metadata": {},
   "outputs": [],
   "source": [
    "data = {}\n",
    "\n",
    "for file in files:\n",
    "    doc_text = extract_text(folder / file)\n",
    "\n",
    "    data[file] = doc_text\n",
    "    \n",
    "    with open(f\"{file}.txt\", \"w\") as f:\n",
    "        f.write(doc_text)"
   ]
  },
  {
   "cell_type": "code",
   "execution_count": 126,
   "metadata": {},
   "outputs": [],
   "source": [
    "def insurer_name(text):\n",
    "    companies = {\n",
    "        \"Reliance\": \"Reliance General Insurance Company\",\n",
    "        \"ERGO\": \"HDFC ERGO General Insurance Company\",\n",
    "        \"SBI\": \"SBI General Insurance Company\",\n",
    "        \"New India\": \"India Assurance\",\n",
    "        \"Future Generali\": \"Future Generali\"\n",
    "    }\n",
    "\n",
    "    for company in companies:\n",
    "        result = re.search(re.compile(companies[company], re.IGNORECASE), text)\n",
    "        if result: return company\n",
    "\n",
    "    return \"NEW\""
   ]
  },
  {
   "cell_type": "code",
   "execution_count": 91,
   "metadata": {},
   "outputs": [],
   "source": [
    "def policy_number(text):\n",
    "    pattern1 = re.compile(\"policy number\\s*:\\s*([^\\s\\n]+)\", re.IGNORECASE)\n",
    "    pattern2 = re.compile(\"policy no.\\s*([^\\n]+)\", re.IGNORECASE)\n",
    "    \n",
    "    result = re.search(pattern1, text) or re.search(pattern2, text)\n",
    "\n",
    "    return result and result.group(1).replace(\" \", \"\")"
   ]
  },
  {
   "cell_type": "code",
   "execution_count": 130,
   "metadata": {},
   "outputs": [],
   "source": [
    "def vehical_number(text):\n",
    "\n",
    "    pattern = re.compile(\"TN-?\\d{2}-?[A-Z]{1,2}-?\\d{4}\", re.IGNORECASE)\n",
    "    result = re.search(pattern, text)\n",
    "\n",
    "    return (result and result.group().replace(\"-\", \"\").upper()) or \"NEW\""
   ]
  },
  {
   "cell_type": "code",
   "execution_count": 150,
   "metadata": {},
   "outputs": [
    {
     "name": "stdout",
     "output_type": "stream",
     "text": [
      "reliance.pdf SANKAR  .\n",
      "NO \n",
      "sbi.pdf PARATHAMAN M\n",
      "\n",
      "india.pdf SURESH K\n",
      "india.PDF GANESAMOORTHY  A\n",
      "future.pdf RAJESH M\n",
      "NO \n",
      "hdfc.PDF None\n"
     ]
    }
   ],
   "source": [
    "def customer_name(text):\n",
    "    patterns = [\n",
    "        re.compile(\"Mr.? ([a-zA-Z\\.\\s]+)\"),\n",
    "        re.compile(\"Ms.? ([^\\n]+)\"),\n",
    "        re.compile(\"Insured'?s? Name\\s*([^\\n]+)\")\n",
    "    ]\n",
    "\n",
    "    for pattern in patterns:\n",
    "        result = re.search(pattern, text)\n",
    "        if result: return (result and result.group(1))\n",
    "\n",
    "for file in data:\n",
    "    print(file, customer_name(data[file]))"
   ]
  },
  {
   "cell_type": "code",
   "execution_count": 140,
   "metadata": {},
   "outputs": [],
   "source": [
    "def premium(text):\n",
    "    patterns = [\n",
    "        re.compile(\"Total Payable.*\\s*([\\d.,]+)\", re.IGNORECASE),\n",
    "        re.compile(\"Total Premium.*\\s*([\\d.,]+)\", re.IGNORECASE),\n",
    "        re.compile(\"Total Premium \\(rounded off\\)\\s*([\\d.,]+)\", re.IGNORECASE)\n",
    "    ]\n",
    "\n",
    "    for pattern in patterns:\n",
    "        result = re.search(pattern, text)\n",
    "        if result: return ceil(float(result.group(1).replace(\",\", \"\"))*(100/118))\n",
    "\n",
    "for file in data:\n",
    "    print(file, premium(data[file]))"
   ]
  },
  {
   "cell_type": "code",
   "execution_count": 127,
   "metadata": {},
   "outputs": [],
   "source": [
    "file = 'test.pdf'\n",
    "\n",
    "text = extract_text(folder/file)"
   ]
  },
  {
   "cell_type": "code",
   "execution_count": 145,
   "metadata": {},
   "outputs": [
    {
     "data": {
      "text/plain": [
       "'Conditions and Exclusions:'"
      ]
     },
     "execution_count": 145,
     "metadata": {},
     "output_type": "execute_result"
    }
   ],
   "source": [
    "customer_name(text)"
   ]
  }
 ],
 "metadata": {
  "kernelspec": {
   "display_name": "Python 3",
   "language": "python",
   "name": "python3"
  },
  "language_info": {
   "codemirror_mode": {
    "name": "ipython",
    "version": 3
   },
   "file_extension": ".py",
   "mimetype": "text/x-python",
   "name": "python",
   "nbconvert_exporter": "python",
   "pygments_lexer": "ipython3",
   "version": "3.10.12"
  }
 },
 "nbformat": 4,
 "nbformat_minor": 2
}
